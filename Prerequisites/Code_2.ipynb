{
 "cells": [
  {
   "cell_type": "markdown",
   "id": "088175da-fe28-4d82-9b30-87d5428ad3c4",
   "metadata": {},
   "source": [
    "# CSOC IG Prerequisites - Part 2"
   ]
  },
  {
   "cell_type": "markdown",
   "id": "b9548352-e313-4d9c-bb5f-c203947d8ad8",
   "metadata": {},
   "source": [
    "### Header"
   ]
  },
  {
   "cell_type": "code",
   "execution_count": 1,
   "id": "aeb88bfd-193d-4cc1-8373-d9071fe9f36a",
   "metadata": {},
   "outputs": [],
   "source": [
    "# Importing Libraries\n",
    "\n",
    "import numpy as np\n",
    "import pandas as pd\n",
    "import matplotlib.pyplot as plt\n",
    "import time"
   ]
  },
  {
   "cell_type": "code",
   "execution_count": 2,
   "id": "5408c486-fbee-46e0-be07-36edcff9b809",
   "metadata": {},
   "outputs": [
    {
     "data": {
      "text/html": [
       "<div>\n",
       "<style scoped>\n",
       "    .dataframe tbody tr th:only-of-type {\n",
       "        vertical-align: middle;\n",
       "    }\n",
       "\n",
       "    .dataframe tbody tr th {\n",
       "        vertical-align: top;\n",
       "    }\n",
       "\n",
       "    .dataframe thead th {\n",
       "        text-align: right;\n",
       "    }\n",
       "</style>\n",
       "<table border=\"1\" class=\"dataframe\">\n",
       "  <thead>\n",
       "    <tr style=\"text-align: right;\">\n",
       "      <th></th>\n",
       "      <th>longitude</th>\n",
       "      <th>latitude</th>\n",
       "      <th>housing_median_age</th>\n",
       "      <th>total_rooms</th>\n",
       "      <th>total_bedrooms</th>\n",
       "      <th>population</th>\n",
       "      <th>households</th>\n",
       "      <th>median_income</th>\n",
       "      <th>median_house_value</th>\n",
       "      <th>ocean_proximity</th>\n",
       "    </tr>\n",
       "  </thead>\n",
       "  <tbody>\n",
       "    <tr>\n",
       "      <th>0</th>\n",
       "      <td>-122.23</td>\n",
       "      <td>37.88</td>\n",
       "      <td>41.0</td>\n",
       "      <td>880.0</td>\n",
       "      <td>129.0</td>\n",
       "      <td>322.0</td>\n",
       "      <td>126.0</td>\n",
       "      <td>8.3252</td>\n",
       "      <td>452600.0</td>\n",
       "      <td>NEAR BAY</td>\n",
       "    </tr>\n",
       "    <tr>\n",
       "      <th>1</th>\n",
       "      <td>-122.22</td>\n",
       "      <td>37.86</td>\n",
       "      <td>21.0</td>\n",
       "      <td>7099.0</td>\n",
       "      <td>1106.0</td>\n",
       "      <td>2401.0</td>\n",
       "      <td>1138.0</td>\n",
       "      <td>8.3014</td>\n",
       "      <td>358500.0</td>\n",
       "      <td>NEAR BAY</td>\n",
       "    </tr>\n",
       "    <tr>\n",
       "      <th>2</th>\n",
       "      <td>-122.24</td>\n",
       "      <td>37.85</td>\n",
       "      <td>52.0</td>\n",
       "      <td>1467.0</td>\n",
       "      <td>190.0</td>\n",
       "      <td>496.0</td>\n",
       "      <td>177.0</td>\n",
       "      <td>7.2574</td>\n",
       "      <td>352100.0</td>\n",
       "      <td>NEAR BAY</td>\n",
       "    </tr>\n",
       "    <tr>\n",
       "      <th>3</th>\n",
       "      <td>-122.25</td>\n",
       "      <td>37.85</td>\n",
       "      <td>52.0</td>\n",
       "      <td>1274.0</td>\n",
       "      <td>235.0</td>\n",
       "      <td>558.0</td>\n",
       "      <td>219.0</td>\n",
       "      <td>5.6431</td>\n",
       "      <td>341300.0</td>\n",
       "      <td>NEAR BAY</td>\n",
       "    </tr>\n",
       "    <tr>\n",
       "      <th>4</th>\n",
       "      <td>-122.25</td>\n",
       "      <td>37.85</td>\n",
       "      <td>52.0</td>\n",
       "      <td>1627.0</td>\n",
       "      <td>280.0</td>\n",
       "      <td>565.0</td>\n",
       "      <td>259.0</td>\n",
       "      <td>3.8462</td>\n",
       "      <td>342200.0</td>\n",
       "      <td>NEAR BAY</td>\n",
       "    </tr>\n",
       "  </tbody>\n",
       "</table>\n",
       "</div>"
      ],
      "text/plain": [
       "   longitude  latitude  housing_median_age  total_rooms  total_bedrooms  \\\n",
       "0    -122.23     37.88                41.0        880.0           129.0   \n",
       "1    -122.22     37.86                21.0       7099.0          1106.0   \n",
       "2    -122.24     37.85                52.0       1467.0           190.0   \n",
       "3    -122.25     37.85                52.0       1274.0           235.0   \n",
       "4    -122.25     37.85                52.0       1627.0           280.0   \n",
       "\n",
       "   population  households  median_income  median_house_value ocean_proximity  \n",
       "0       322.0       126.0         8.3252            452600.0        NEAR BAY  \n",
       "1      2401.0      1138.0         8.3014            358500.0        NEAR BAY  \n",
       "2       496.0       177.0         7.2574            352100.0        NEAR BAY  \n",
       "3       558.0       219.0         5.6431            341300.0        NEAR BAY  \n",
       "4       565.0       259.0         3.8462            342200.0        NEAR BAY  "
      ]
     },
     "execution_count": 2,
     "metadata": {},
     "output_type": "execute_result"
    }
   ],
   "source": [
    "# Reading Dataset\n",
    "\n",
    "houses = pd.read_csv(r'./housing.csv')\n",
    "houses = houses.dropna().reset_index(drop=True)\n",
    "houses.head()"
   ]
  },
  {
   "cell_type": "code",
   "execution_count": 3,
   "id": "3395a49e-12db-4e96-9fdf-89f36e60dced",
   "metadata": {},
   "outputs": [],
   "source": [
    "# Extracting Features & Target \n",
    "\n",
    "ocean_dict = {'<1H OCEAN':4, 'INLAND' :5, 'NEAR OCEAN':3,'NEAR BAY':2,'ISLAND':1}\n",
    "houses.ocean_proximity = houses.ocean_proximity.apply(lambda x: ocean_dict[x])\n",
    "\n",
    "cols = ['housing_median_age','total_rooms','total_bedrooms','median_income','households','ocean_proximity']\n",
    "feature = houses[cols]\n",
    "target = houses.median_house_value"
   ]
  },
  {
   "cell_type": "code",
   "execution_count": 4,
   "id": "94a9eab6-39b6-4863-8842-a623cdefeaa8",
   "metadata": {},
   "outputs": [
    {
     "data": {
      "text/html": [
       "<div>\n",
       "<style scoped>\n",
       "    .dataframe tbody tr th:only-of-type {\n",
       "        vertical-align: middle;\n",
       "    }\n",
       "\n",
       "    .dataframe tbody tr th {\n",
       "        vertical-align: top;\n",
       "    }\n",
       "\n",
       "    .dataframe thead th {\n",
       "        text-align: right;\n",
       "    }\n",
       "</style>\n",
       "<table border=\"1\" class=\"dataframe\">\n",
       "  <thead>\n",
       "    <tr style=\"text-align: right;\">\n",
       "      <th></th>\n",
       "      <th>housing_median_age</th>\n",
       "      <th>total_rooms</th>\n",
       "      <th>total_bedrooms</th>\n",
       "      <th>median_income</th>\n",
       "      <th>households</th>\n",
       "      <th>ocean_proximity</th>\n",
       "      <th>median_house_value</th>\n",
       "    </tr>\n",
       "  </thead>\n",
       "  <tbody>\n",
       "    <tr>\n",
       "      <th>0</th>\n",
       "      <td>41.0</td>\n",
       "      <td>880.0</td>\n",
       "      <td>129.0</td>\n",
       "      <td>8.3252</td>\n",
       "      <td>126.0</td>\n",
       "      <td>2</td>\n",
       "      <td>452600.0</td>\n",
       "    </tr>\n",
       "    <tr>\n",
       "      <th>1</th>\n",
       "      <td>21.0</td>\n",
       "      <td>7099.0</td>\n",
       "      <td>1106.0</td>\n",
       "      <td>8.3014</td>\n",
       "      <td>1138.0</td>\n",
       "      <td>2</td>\n",
       "      <td>358500.0</td>\n",
       "    </tr>\n",
       "    <tr>\n",
       "      <th>2</th>\n",
       "      <td>52.0</td>\n",
       "      <td>1467.0</td>\n",
       "      <td>190.0</td>\n",
       "      <td>7.2574</td>\n",
       "      <td>177.0</td>\n",
       "      <td>2</td>\n",
       "      <td>352100.0</td>\n",
       "    </tr>\n",
       "    <tr>\n",
       "      <th>3</th>\n",
       "      <td>52.0</td>\n",
       "      <td>1274.0</td>\n",
       "      <td>235.0</td>\n",
       "      <td>5.6431</td>\n",
       "      <td>219.0</td>\n",
       "      <td>2</td>\n",
       "      <td>341300.0</td>\n",
       "    </tr>\n",
       "    <tr>\n",
       "      <th>4</th>\n",
       "      <td>52.0</td>\n",
       "      <td>1627.0</td>\n",
       "      <td>280.0</td>\n",
       "      <td>3.8462</td>\n",
       "      <td>259.0</td>\n",
       "      <td>2</td>\n",
       "      <td>342200.0</td>\n",
       "    </tr>\n",
       "  </tbody>\n",
       "</table>\n",
       "</div>"
      ],
      "text/plain": [
       "   housing_median_age  total_rooms  total_bedrooms  median_income  households  \\\n",
       "0                41.0        880.0           129.0         8.3252       126.0   \n",
       "1                21.0       7099.0          1106.0         8.3014      1138.0   \n",
       "2                52.0       1467.0           190.0         7.2574       177.0   \n",
       "3                52.0       1274.0           235.0         5.6431       219.0   \n",
       "4                52.0       1627.0           280.0         3.8462       259.0   \n",
       "\n",
       "   ocean_proximity  median_house_value  \n",
       "0                2            452600.0  \n",
       "1                2            358500.0  \n",
       "2                2            352100.0  \n",
       "3                2            341300.0  \n",
       "4                2            342200.0  "
      ]
     },
     "execution_count": 4,
     "metadata": {},
     "output_type": "execute_result"
    }
   ],
   "source": [
    "pd.concat((feature,target), axis=1).head()"
   ]
  },
  {
   "cell_type": "markdown",
   "id": "d65814f0-fd17-4a99-b83f-fb83ebebe236",
   "metadata": {},
   "source": [
    "### Definitions"
   ]
  },
  {
   "cell_type": "code",
   "execution_count": 5,
   "id": "888d9763-509d-4193-a543-3517210ffc5c",
   "metadata": {},
   "outputs": [],
   "source": [
    "# Defining Prediction function\n",
    "\n",
    "def y_out(w, x, b):\n",
    "    \n",
    "    return (np.dot(w,x) + b)"
   ]
  },
  {
   "cell_type": "code",
   "execution_count": 6,
   "id": "68fa3657-897c-4339-8535-c8e415759d71",
   "metadata": {},
   "outputs": [],
   "source": [
    "# Defining Cost Function\n",
    "def cost_fx(feature_var,target_var, w_var,b_var):\n",
    "    m = feature_var.shape[0]\n",
    "\n",
    "    del_y_arr = []\n",
    "        \n",
    "    for k in range(0,m):\n",
    "        del_y = ( y_out(w_var, feature_var.iloc[k,:] , b_var) - target_var[k] )**2\n",
    "        del_y_arr = np.append(del_y_arr, del_y)\n",
    "\n",
    "    mse = (1/(2*m))*(np.sum(del_y_arr))\n",
    "\n",
    "    return mse"
   ]
  },
  {
   "cell_type": "code",
   "execution_count": 7,
   "id": "9778d338-0297-4b86-87e5-a9b9d067c3bb",
   "metadata": {},
   "outputs": [],
   "source": [
    "# Defining Gradient descent\n",
    "\n",
    "def grad_descent(feature_var, target_var, w_init, b_init, alpha, steps):\n",
    "    m = feature_var.shape[0]\n",
    "    w_new = []\n",
    "    b_new = 0\n",
    "\n",
    "    # Defining variables to use for plotting\n",
    "    global y_cost\n",
    "    y_cost = []\n",
    "    \n",
    "\n",
    "    for i in range(0, steps):\n",
    "\n",
    "        cost_val = cost_fx(feature_var,target_var,w_init,b_init)\n",
    "        \n",
    "        # if i%5==0:\n",
    "        #     print(cost_val)\n",
    "\n",
    "        del_y_arr = []\n",
    "\n",
    "        y_cost.append(cost_val)\n",
    "\n",
    "        for k in range(0,m):\n",
    "            del_y = ( y_out(w_init, feature_var.iloc[k,:] , b_init) - target_var[k] )\n",
    "            del_y_arr = np.append(del_y_arr, del_y)\n",
    "            \n",
    "      \n",
    "\n",
    "        for j in range(0, len(w_init)):\n",
    "            x_arr = feature_var.iloc[:,j]\n",
    "            err=0\n",
    "            \n",
    "            err = (alpha/m)*(np.dot(x_arr, del_y_arr))\n",
    "            err = w_init[j] - err\n",
    "            w_new = np.append(w_new , err)\n",
    "\n",
    "        err=0\n",
    "        err = (alpha/m)*(np.sum(del_y_arr))\n",
    "        err = b_init - err\n",
    "        b_new = err\n",
    "\n",
    "        \n",
    "        w_init=w_new\n",
    "        b_init=b_new\n",
    "\n",
    "        w_final = w_init\n",
    "        b_final = b_init\n",
    "\n",
    "        w_new = []\n",
    "        b_new = 0\n",
    "\n",
    "    return w_final,b_final\n",
    "\n"
   ]
  },
  {
   "cell_type": "code",
   "execution_count": 8,
   "id": "8b2f1f33-8efb-43a5-9554-07f57bdcb76c",
   "metadata": {},
   "outputs": [],
   "source": [
    "# Defining a function to remove outliers in preprocessing\n",
    "\n",
    "def del_outlier(dataframe):\n",
    "    df = pd.DataFrame(dataframe)\n",
    "    for i in df.columns:\n",
    "        iqr = df[i].quantile(0.75) - df[i].quantile(0.25)\n",
    "        mx = df[i].max() if (df[i].max() <= (df[i].quantile(0.75) + (1.5)*iqr)  ) else (df[i].quantile(0.75) + (1.5)*iqr)\n",
    "        mn = df[i].min() if (df[i].min() >= (df[i].quantile(0.25) - (1.5)*iqr)  ) else (df[i].quantile(0.25) - (1.5)*iqr)\n",
    "        \n",
    "        df = df[(df[i]>mn) & (df[i]<mx)]\n",
    "        \n",
    "        return df"
   ]
  },
  {
   "cell_type": "code",
   "execution_count": 9,
   "id": "c371aa09-5bae-4c5b-87d6-15affaf83942",
   "metadata": {},
   "outputs": [],
   "source": [
    "# Defining a function to rescale features & target in preprocessing\n",
    "\n",
    "def rescale_srs(series):\n",
    "    iqr = series.quantile(0.75) - series.quantile(0.25)\n",
    "    mx = series.max() #if (series.max() <= (series.quantile(0.75) + (1.5)*iqr)  ) else (series.quantile(0.75) + (1.5)*iqr)\n",
    "    mn = series.min() #if (series.min() >= (series.quantile(0.25) - (1.5)*iqr)  ) else (series.quantile(0.25) - (1.5)*iqr)\n",
    "    mu = series.mean()\n",
    "    series = series.apply(lambda x : (x - mu)/(mx-mn))\n",
    "    \n",
    "    return series"
   ]
  },
  {
   "cell_type": "code",
   "execution_count": 10,
   "id": "9bba0ba7-5533-4578-9639-073c19e55acc",
   "metadata": {},
   "outputs": [],
   "source": [
    "# Defining a function to unscale features & target in preprocessing\n",
    "\n",
    "def unscale_val(val, col_name):\n",
    "    \n",
    "    f2 = houses[cols2]\n",
    "    f2 = del_outlier(f2)\n",
    "    df2 = pd.concat( (f2, houses.median_house_value), join='inner',axis=1 )\n",
    "\n",
    "    series = df2[col_name]\n",
    "    iqr = series.quantile(0.75) - series.quantile(0.25)\n",
    "    mx = series.max() #if (series.max() <= (series.quantile(0.75) + (1.5)*iqr)  ) else (series.quantile(0.75) + (1.5)*iqr)\n",
    "    mn = series.min() #if (series.min() >= (series.quantile(0.25) - (1.5)*iqr)  ) else (series.quantile(0.25) - (1.5)*iqr)\n",
    "    mu = series.mean()\n",
    "\n",
    "    out = val*(mx-mn) + mu\n",
    "\n",
    "    return out\n",
    "    "
   ]
  },
  {
   "cell_type": "code",
   "execution_count": 11,
   "id": "d3fdac34-e7e2-4a59-a3a5-0ad1abf9827e",
   "metadata": {},
   "outputs": [],
   "source": [
    "# Defining Performance Metrics\n",
    "\n",
    "def rms_err(y1,y2):\n",
    "    y1,y2 = pd.Series(y1), pd.Series(y2)\n",
    "    rms = (y1-y2)\n",
    "    rms = rms*rms\n",
    "    rms = rms.sum()/len(y1)\n",
    "    rms = np.sqrt(rms)\n",
    "\n",
    "    return rms\n",
    "\n",
    "\n",
    "def ma_err(y1,y2):\n",
    "    y1,y2 = pd.Series(y1), pd.Series(y2)\n",
    "    ma = y1-y2\n",
    "    ma = ma.apply(lambda x: np.absolute(x))\n",
    "    ma = ma.sum()\n",
    "    ma = ma/len(y1)\n",
    "\n",
    "    return ma\n",
    "    \n",
    "\n",
    "def r2_score(y_p,y_t):\n",
    "    y_p,y_t = pd.Series(y_p), pd.Series(y_t)\n",
    "    sq_err = y_p - y_t\n",
    "    sq_err = sq_err * sq_err\n",
    "    sq_err = sq_err.sum()\n",
    "    sq_tot = y_t * y_t\n",
    "    sq_tot = sq_tot.sum()\n",
    "\n",
    "    r2s = sq_err/sq_tot\n",
    "    r2s = 1-r2s\n",
    "\n",
    "    return r2s"
   ]
  },
  {
   "cell_type": "markdown",
   "id": "903818dd-c515-4c00-ad13-c52e8d56a464",
   "metadata": {},
   "source": [
    "### Body"
   ]
  },
  {
   "cell_type": "code",
   "execution_count": 12,
   "id": "48740922-2296-4cae-9caf-aa5ee1036ca7",
   "metadata": {},
   "outputs": [
    {
     "data": {
      "text/html": [
       "<div>\n",
       "<style scoped>\n",
       "    .dataframe tbody tr th:only-of-type {\n",
       "        vertical-align: middle;\n",
       "    }\n",
       "\n",
       "    .dataframe tbody tr th {\n",
       "        vertical-align: top;\n",
       "    }\n",
       "\n",
       "    .dataframe thead th {\n",
       "        text-align: right;\n",
       "    }\n",
       "</style>\n",
       "<table border=\"1\" class=\"dataframe\">\n",
       "  <thead>\n",
       "    <tr style=\"text-align: right;\">\n",
       "      <th></th>\n",
       "      <th>housing_median_age</th>\n",
       "      <th>total_rooms</th>\n",
       "      <th>total_bedrooms</th>\n",
       "      <th>median_income</th>\n",
       "      <th>households</th>\n",
       "      <th>ocean_proximity</th>\n",
       "      <th>median_house_value</th>\n",
       "    </tr>\n",
       "  </thead>\n",
       "  <tbody>\n",
       "    <tr>\n",
       "      <th>0</th>\n",
       "      <td>41.0</td>\n",
       "      <td>880.0</td>\n",
       "      <td>129.0</td>\n",
       "      <td>8.3252</td>\n",
       "      <td>126.0</td>\n",
       "      <td>2</td>\n",
       "      <td>452600.0</td>\n",
       "    </tr>\n",
       "    <tr>\n",
       "      <th>1</th>\n",
       "      <td>21.0</td>\n",
       "      <td>7099.0</td>\n",
       "      <td>1106.0</td>\n",
       "      <td>8.3014</td>\n",
       "      <td>1138.0</td>\n",
       "      <td>2</td>\n",
       "      <td>358500.0</td>\n",
       "    </tr>\n",
       "    <tr>\n",
       "      <th>2</th>\n",
       "      <td>42.0</td>\n",
       "      <td>2555.0</td>\n",
       "      <td>665.0</td>\n",
       "      <td>2.0804</td>\n",
       "      <td>595.0</td>\n",
       "      <td>2</td>\n",
       "      <td>226700.0</td>\n",
       "    </tr>\n",
       "    <tr>\n",
       "      <th>3</th>\n",
       "      <td>50.0</td>\n",
       "      <td>1120.0</td>\n",
       "      <td>283.0</td>\n",
       "      <td>2.1250</td>\n",
       "      <td>264.0</td>\n",
       "      <td>2</td>\n",
       "      <td>140000.0</td>\n",
       "    </tr>\n",
       "    <tr>\n",
       "      <th>4</th>\n",
       "      <td>50.0</td>\n",
       "      <td>2239.0</td>\n",
       "      <td>455.0</td>\n",
       "      <td>1.9911</td>\n",
       "      <td>419.0</td>\n",
       "      <td>2</td>\n",
       "      <td>158700.0</td>\n",
       "    </tr>\n",
       "    <tr>\n",
       "      <th>...</th>\n",
       "      <td>...</td>\n",
       "      <td>...</td>\n",
       "      <td>...</td>\n",
       "      <td>...</td>\n",
       "      <td>...</td>\n",
       "      <td>...</td>\n",
       "      <td>...</td>\n",
       "    </tr>\n",
       "    <tr>\n",
       "      <th>19159</th>\n",
       "      <td>25.0</td>\n",
       "      <td>1665.0</td>\n",
       "      <td>374.0</td>\n",
       "      <td>1.5603</td>\n",
       "      <td>330.0</td>\n",
       "      <td>5</td>\n",
       "      <td>78100.0</td>\n",
       "    </tr>\n",
       "    <tr>\n",
       "      <th>19160</th>\n",
       "      <td>18.0</td>\n",
       "      <td>697.0</td>\n",
       "      <td>150.0</td>\n",
       "      <td>2.5568</td>\n",
       "      <td>114.0</td>\n",
       "      <td>5</td>\n",
       "      <td>77100.0</td>\n",
       "    </tr>\n",
       "    <tr>\n",
       "      <th>19161</th>\n",
       "      <td>17.0</td>\n",
       "      <td>2254.0</td>\n",
       "      <td>485.0</td>\n",
       "      <td>1.7000</td>\n",
       "      <td>433.0</td>\n",
       "      <td>5</td>\n",
       "      <td>92300.0</td>\n",
       "    </tr>\n",
       "    <tr>\n",
       "      <th>19162</th>\n",
       "      <td>18.0</td>\n",
       "      <td>1860.0</td>\n",
       "      <td>409.0</td>\n",
       "      <td>1.8672</td>\n",
       "      <td>349.0</td>\n",
       "      <td>5</td>\n",
       "      <td>84700.0</td>\n",
       "    </tr>\n",
       "    <tr>\n",
       "      <th>19163</th>\n",
       "      <td>16.0</td>\n",
       "      <td>2785.0</td>\n",
       "      <td>616.0</td>\n",
       "      <td>2.3886</td>\n",
       "      <td>530.0</td>\n",
       "      <td>5</td>\n",
       "      <td>89400.0</td>\n",
       "    </tr>\n",
       "  </tbody>\n",
       "</table>\n",
       "<p>19164 rows × 7 columns</p>\n",
       "</div>"
      ],
      "text/plain": [
       "       housing_median_age  total_rooms  total_bedrooms  median_income  \\\n",
       "0                    41.0        880.0           129.0         8.3252   \n",
       "1                    21.0       7099.0          1106.0         8.3014   \n",
       "2                    42.0       2555.0           665.0         2.0804   \n",
       "3                    50.0       1120.0           283.0         2.1250   \n",
       "4                    50.0       2239.0           455.0         1.9911   \n",
       "...                   ...          ...             ...            ...   \n",
       "19159                25.0       1665.0           374.0         1.5603   \n",
       "19160                18.0        697.0           150.0         2.5568   \n",
       "19161                17.0       2254.0           485.0         1.7000   \n",
       "19162                18.0       1860.0           409.0         1.8672   \n",
       "19163                16.0       2785.0           616.0         2.3886   \n",
       "\n",
       "       households  ocean_proximity  median_house_value  \n",
       "0           126.0                2            452600.0  \n",
       "1          1138.0                2            358500.0  \n",
       "2           595.0                2            226700.0  \n",
       "3           264.0                2            140000.0  \n",
       "4           419.0                2            158700.0  \n",
       "...           ...              ...                 ...  \n",
       "19159       330.0                5             78100.0  \n",
       "19160       114.0                5             77100.0  \n",
       "19161       433.0                5             92300.0  \n",
       "19162       349.0                5             84700.0  \n",
       "19163       530.0                5             89400.0  \n",
       "\n",
       "[19164 rows x 7 columns]"
      ]
     },
     "execution_count": 12,
     "metadata": {},
     "output_type": "execute_result"
    }
   ],
   "source": [
    "# Preprocessing Data\n",
    "\n",
    "global cols2\n",
    "cols2 = ['housing_median_age','total_rooms','total_bedrooms','median_income','households']\n",
    "feature2 = feature.copy()[cols2]\n",
    "\n",
    "feature2 = del_outlier(feature2)\n",
    "target2 = target.copy()\n",
    "feature_combn = pd.concat( (feature2, feature['ocean_proximity']), join='inner', axis=1 )\n",
    "\n",
    "df_new = pd.concat((feature_combn,target2), join='inner',axis=1).reset_index(drop=True)\n",
    "\n",
    "feature2 = feature2.apply(rescale_srs, axis=0)\n",
    "feature2 = pd.concat( (feature2, feature['ocean_proximity']), join='inner', axis=1 )\n",
    "target2 = pd.concat((feature2,target2), join='inner',axis=1)['median_house_value']\n",
    "target2 = rescale_srs(target2)\n",
    "\n",
    "feature2 = feature2.reset_index(drop=True)\n",
    "target2 = target2.reset_index(drop=True)\n",
    "\n",
    "df_new"
   ]
  },
  {
   "cell_type": "code",
   "execution_count": 13,
   "id": "e1c13a58-5471-490d-83db-ee6660271745",
   "metadata": {},
   "outputs": [
    {
     "data": {
      "text/html": [
       "<div>\n",
       "<style scoped>\n",
       "    .dataframe tbody tr th:only-of-type {\n",
       "        vertical-align: middle;\n",
       "    }\n",
       "\n",
       "    .dataframe tbody tr th {\n",
       "        vertical-align: top;\n",
       "    }\n",
       "\n",
       "    .dataframe thead th {\n",
       "        text-align: right;\n",
       "    }\n",
       "</style>\n",
       "<table border=\"1\" class=\"dataframe\">\n",
       "  <thead>\n",
       "    <tr style=\"text-align: right;\">\n",
       "      <th></th>\n",
       "      <th>housing_median_age</th>\n",
       "      <th>total_rooms</th>\n",
       "      <th>total_bedrooms</th>\n",
       "      <th>median_income</th>\n",
       "      <th>households</th>\n",
       "      <th>ocean_proximity</th>\n",
       "      <th>median_house_value</th>\n",
       "    </tr>\n",
       "  </thead>\n",
       "  <tbody>\n",
       "    <tr>\n",
       "      <th>0</th>\n",
       "      <td>0.283746</td>\n",
       "      <td>-0.045985</td>\n",
       "      <td>-0.064845</td>\n",
       "      <td>0.307245</td>\n",
       "      <td>-0.062746</td>\n",
       "      <td>2</td>\n",
       "      <td>0.515969</td>\n",
       "    </tr>\n",
       "    <tr>\n",
       "      <th>1</th>\n",
       "      <td>-0.124417</td>\n",
       "      <td>0.112187</td>\n",
       "      <td>0.086792</td>\n",
       "      <td>0.305604</td>\n",
       "      <td>0.103701</td>\n",
       "      <td>2</td>\n",
       "      <td>0.321949</td>\n",
       "    </tr>\n",
       "    <tr>\n",
       "      <th>2</th>\n",
       "      <td>0.304154</td>\n",
       "      <td>-0.003384</td>\n",
       "      <td>0.018346</td>\n",
       "      <td>-0.123425</td>\n",
       "      <td>0.014392</td>\n",
       "      <td>2</td>\n",
       "      <td>0.050198</td>\n",
       "    </tr>\n",
       "    <tr>\n",
       "      <th>3</th>\n",
       "      <td>0.467420</td>\n",
       "      <td>-0.039881</td>\n",
       "      <td>-0.040944</td>\n",
       "      <td>-0.120349</td>\n",
       "      <td>-0.040049</td>\n",
       "      <td>2</td>\n",
       "      <td>-0.128564</td>\n",
       "    </tr>\n",
       "    <tr>\n",
       "      <th>4</th>\n",
       "      <td>0.467420</td>\n",
       "      <td>-0.011421</td>\n",
       "      <td>-0.014248</td>\n",
       "      <td>-0.129583</td>\n",
       "      <td>-0.014556</td>\n",
       "      <td>2</td>\n",
       "      <td>-0.090008</td>\n",
       "    </tr>\n",
       "  </tbody>\n",
       "</table>\n",
       "</div>"
      ],
      "text/plain": [
       "   housing_median_age  total_rooms  total_bedrooms  median_income  households  \\\n",
       "0            0.283746    -0.045985       -0.064845       0.307245   -0.062746   \n",
       "1           -0.124417     0.112187        0.086792       0.305604    0.103701   \n",
       "2            0.304154    -0.003384        0.018346      -0.123425    0.014392   \n",
       "3            0.467420    -0.039881       -0.040944      -0.120349   -0.040049   \n",
       "4            0.467420    -0.011421       -0.014248      -0.129583   -0.014556   \n",
       "\n",
       "   ocean_proximity  median_house_value  \n",
       "0                2            0.515969  \n",
       "1                2            0.321949  \n",
       "2                2            0.050198  \n",
       "3                2           -0.128564  \n",
       "4                2           -0.090008  "
      ]
     },
     "execution_count": 13,
     "metadata": {},
     "output_type": "execute_result"
    }
   ],
   "source": [
    "pd.concat((feature2,target2), axis=1).head()"
   ]
  },
  {
   "cell_type": "code",
   "execution_count": 14,
   "id": "240e2805-b91a-4da3-8fd9-11042619a35c",
   "metadata": {},
   "outputs": [],
   "source": [
    "# Initialization\n",
    "\n",
    "w = np.full(len(cols), fill_value=0.4)\n",
    "# w = np.zeros(len(cols))\n",
    "b = 0"
   ]
  },
  {
   "cell_type": "code",
   "execution_count": 15,
   "id": "7d039a16-2979-48ae-a838-807c1ff5b9f5",
   "metadata": {},
   "outputs": [
    {
     "name": "stdout",
     "output_type": "stream",
     "text": [
      "Time taken: 117.32 seconds\n"
     ]
    }
   ],
   "source": [
    "# Training Model & Measuring the time\n",
    "\n",
    "start = time.time()\n",
    "\n",
    "w1, b1 = grad_descent(feature2, target2 ,w, b, 0.1,40)\n",
    "\n",
    "end = time.time()\n",
    "time_taken = end-start\n",
    "print(f\"Time taken: {time_taken:.2f} seconds\")"
   ]
  },
  {
   "cell_type": "code",
   "execution_count": 16,
   "id": "8e5ea423-126c-4096-989b-b7a197e5d382",
   "metadata": {},
   "outputs": [
    {
     "name": "stdout",
     "output_type": "stream",
     "text": [
      "0.041102609356519625\n",
      "Predicted Value:  222288.77 $\n",
      "Actual Value:  226700.0 $\n"
     ]
    }
   ],
   "source": [
    "# Predicting for an input\n",
    "\n",
    "res = y_out(w1,feature2.iloc[2,],b1) \n",
    "print(res)\n",
    "print('Predicted Value: ', f\"{unscale_val(res, 'median_house_value'):.2f}\", '$')\n",
    "print('Actual Value: ', df_new.iloc[2,6], '$')"
   ]
  },
  {
   "cell_type": "code",
   "execution_count": 17,
   "id": "e50712f3-e4d5-43f7-ae4b-bf3ffdf2b984",
   "metadata": {},
   "outputs": [],
   "source": [
    "# Generating a Series of Predicted House value \n",
    "\n",
    "y_out_srs = []\n",
    "for i in range(0,feature2.shape[0]):\n",
    "    y_out_each = unscale_val( y_out(w1,feature2.iloc[i],b1), 'median_house_value')\n",
    "    y_out_srs.append(y_out_each)"
   ]
  },
  {
   "cell_type": "code",
   "execution_count": 18,
   "id": "ebf9a285-927f-4236-ba8c-290d3aadc0ed",
   "metadata": {},
   "outputs": [],
   "source": [
    "# Generating the metrics\n",
    "\n",
    "rmse = rms_err(y_out_srs, df_new.median_house_value)\n",
    "mae = ma_err(y_out_srs, df_new.median_house_value)\n",
    "r2scr = r2_score(y_out_srs, df_new.median_house_value)"
   ]
  },
  {
   "cell_type": "markdown",
   "id": "ced26189-0409-44e7-a582-542f3d82e801",
   "metadata": {},
   "source": [
    "### Comparison & Performance Metrics"
   ]
  },
  {
   "cell_type": "code",
   "execution_count": 19,
   "id": "9829a989",
   "metadata": {
    "jupyter": {
     "source_hidden": true
    }
   },
   "outputs": [
    {
     "data": {
      "image/png": "[encoded data removed]",
      "text/plain": [
       "<Figure size 640x480 with 1 Axes>"
      ]
     },
     "metadata": {},
     "output_type": "display_data"
    }
   ],
   "source": [
    "plt.plot(range(len(y_cost)), y_cost)\n",
    "plt.title(\"Convergence of Gradient Descent (wrt Iterations)\")\n",
    "plt.xlabel(\"No. Of Iterations\")\n",
    "plt.ylabel(\"Cost Function\")\n",
    "plt.axhline(y=y_cost[-1], color='red', linestyle='--', label='Final Cost')\n",
    "plt.legend()\n",
    "plt.grid(True)\n",
    "plt.text(-2, y_cost[-1]*1.5 , f\"{y_cost[-1]:.5f}\", color='red')\n",
    "plt.show()"
   ]
  },
  {
   "cell_type": "code",
   "execution_count": 20,
   "id": "a5df135c-d2b1-4408-a78c-8b234e28f15a",
   "metadata": {
    "jupyter": {
     "source_hidden": true
    }
   },
   "outputs": [
    {
     "name": "stdout",
     "output_type": "stream",
     "text": [
      "2.932940363883972\n"
     ]
    },
    {
     "data": {
      "image/png": "[encoded data removed]",
      "text/plain": [
       "<Figure size 640x480 with 1 Axes>"
      ]
     },
     "metadata": {},
     "output_type": "display_data"
    }
   ],
   "source": [
    "time_lst = []\n",
    "t1 = time_taken/len(y_cost)\n",
    "tk = 0\n",
    "print(t1)\n",
    "for i in range(len(y_cost)):\n",
    "    tk+=t1\n",
    "    time_lst.append(tk)\n",
    "    \n",
    "\n",
    "plt.plot(time_lst, y_cost)\n",
    "plt.title(\"Convergence of Gradient Descent (wrt Time)\")\n",
    "plt.xlabel('Time Taken (seconds)')\n",
    "plt.ylabel('Cost Function')\n",
    "plt.axhline(y=y_cost[-1], color='red', linestyle='--', label='Final Cost')\n",
    "plt.legend()\n",
    "plt.grid(True)\n",
    "plt.text(-2, y_cost[-1]*1.5 , f\"{y_cost[-1]:.5f}\", color='red')\n",
    "plt.show()"
   ]
  },
  {
   "cell_type": "code",
   "execution_count": 21,
   "id": "3b87d88e-28a6-4d54-866c-7b4cc1184887",
   "metadata": {
    "jupyter": {
     "source_hidden": true
    }
   },
   "outputs": [
    {
     "data": {
      "image/png": "[encoded data removed]",
      "text/plain": [
       "<Figure size 640x480 with 1 Axes>"
      ]
     },
     "metadata": {},
     "output_type": "display_data"
    }
   ],
   "source": [
    "plt.scatter(y=y_out_srs , x=df_new.median_house_value, color = 'purple', s=5)\n",
    "plt.grid(1)\n",
    "plt.title('Predicted v/s Actual House Value')\n",
    "plt.xlabel('Actual Value ($)')\n",
    "plt.ylabel('Predicted Value ($)');"
   ]
  },
  {
   "cell_type": "code",
   "execution_count": 22,
   "id": "7108da4b-3802-4fb8-b56c-3a23f03b4660",
   "metadata": {
    "jupyter": {
     "source_hidden": true
    }
   },
   "outputs": [
    {
     "data": {
      "image/png": "[encoded data removed]",
      "text/plain": [
       "<Figure size 700x600 with 1 Axes>"
      ]
     },
     "metadata": {},
     "output_type": "display_data"
    }
   ],
   "source": [
    "plt.figure(figsize=(7,6))\n",
    "plt.grid(True)\n",
    "plt.bar(x=['Root Mean Squared Error','Mean Absolute Error','R2 Score(x10000)'],height=[rmse,mae,r2scr*10000], color = 'purple')\n",
    "plt.title('Metrics of Performance');"
   ]
  },
  {
   "cell_type": "code",
   "execution_count": 23,
   "id": "61a48d86-54f6-4065-a303-66fde5c2ebfd",
   "metadata": {
    "jupyter": {
     "source_hidden": true
    }
   },
   "outputs": [
    {
     "name": "stdout",
     "output_type": "stream",
     "text": [
      "Mean Absolute Error : 75559.7496028754\n",
      "Root Mean Squared Eror : 98375.97810735654\n",
      "R2 Score : 0.8192569280936366\n",
      "Time Taken for training : 117.31761455535889\n"
     ]
    }
   ],
   "source": [
    "print(f'''Mean Absolute Error : {mae}\n",
    "Root Mean Squared Eror : {rmse}\n",
    "R2 Score : {r2scr}\n",
    "Time Taken for training : {time_taken}''')"
   ]
  },
  {
   "cell_type": "markdown",
   "id": "2353e3e2-050c-4a72-b927-60abdb37a84a",
   "metadata": {},
   "source": [
    "### End of Code"
   ]
  }
 ],
 "metadata": {
  "kernelspec": {
   "display_name": "Python [conda env:base] *",
   "language": "python",
   "name": "conda-base-py"
  },
  "language_info": {
   "codemirror_mode": {
    "name": "ipython",
    "version": 3
   },
   "file_extension": ".py",
   "mimetype": "text/x-python",
   "name": "python",
   "nbconvert_exporter": "python",
   "pygments_lexer": "ipython3",
   "version": "3.12.7"
  }
 },
 "nbformat": 4,
 "nbformat_minor": 5
}
