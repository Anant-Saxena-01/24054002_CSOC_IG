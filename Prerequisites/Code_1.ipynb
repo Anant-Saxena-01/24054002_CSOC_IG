{
 "cells": [
  {
   "cell_type": "markdown",
   "id": "db68dd61-2d41-4b16-b172-7f6b29db42b0",
   "metadata": {},
   "source": [
    "# CSOC IG Prerequisites - Part 1"
   ]
  },
  {
   "cell_type": "markdown",
   "id": "bc1d8566-c497-474a-bb41-8941cc4748ec",
   "metadata": {},
   "source": [
    "### Header"
   ]
  },
  {
   "cell_type": "code",
   "execution_count": 1,
   "id": "b1d166dd-0981-4b60-9161-781c9ea39f69",
   "metadata": {},
   "outputs": [],
   "source": [
    "# Importing Libraries\n",
    "\n",
    "import pandas as pd\n",
    "import matplotlib.pyplot as plt\n",
    "import time\n",
    "import math"
   ]
  },
  {
   "cell_type": "code",
   "execution_count": 2,
   "id": "6e3a30ff-681a-4f1c-96f4-64584ce4f086",
   "metadata": {},
   "outputs": [],
   "source": [
    "# Reading from CSV file\n",
    "\n",
    "houses = pd.read_csv(r'.\\housing.csv')\n",
    "houses = houses.dropna().reset_index(drop=True )"
   ]
  },
  {
   "cell_type": "code",
   "execution_count": 3,
   "id": "acf79d81-28d7-4a2e-96c0-5cbf6ccd99d2",
   "metadata": {},
   "outputs": [
    {
     "data": {
      "text/plain": [
       "Index(['longitude', 'latitude', 'housing_median_age', 'total_rooms',\n",
       "       'total_bedrooms', 'population', 'households', 'median_income',\n",
       "       'median_house_value', 'ocean_proximity'],\n",
       "      dtype='object')"
      ]
     },
     "execution_count": 3,
     "metadata": {},
     "output_type": "execute_result"
    }
   ],
   "source": [
    "houses.columns"
   ]
  },
  {
   "cell_type": "code",
   "execution_count": 4,
   "id": "51b2b738-eba4-4241-9339-ba857dbf6e23",
   "metadata": {},
   "outputs": [
    {
     "data": {
      "text/plain": [
       "ocean_proximity\n",
       "<1H OCEAN     9034\n",
       "INLAND        6496\n",
       "NEAR OCEAN    2628\n",
       "NEAR BAY      2270\n",
       "ISLAND           5\n",
       "Name: count, dtype: int64"
      ]
     },
     "execution_count": 4,
     "metadata": {},
     "output_type": "execute_result"
    }
   ],
   "source": [
    "houses['ocean_proximity'].value_counts()"
   ]
  },
  {
   "cell_type": "code",
   "execution_count": 5,
   "id": "acae2e6e-be6c-418d-9f4b-7fbb9ab4dae3",
   "metadata": {},
   "outputs": [],
   "source": [
    "# Extracting Features & Target\n",
    "\n",
    "ocean_dict = {'<1H OCEAN':4, 'INLAND' :5, 'NEAR OCEAN':3,'NEAR BAY':2,'ISLAND':1}\n",
    "houses.ocean_proximity = houses.ocean_proximity.apply(lambda x: ocean_dict[x])\n",
    "cols = ['housing_median_age','total_rooms','total_bedrooms','median_income','households','ocean_proximity']\n",
    "\n",
    "feature = houses[cols]\n",
    "target = houses.median_house_value"
   ]
  },
  {
   "cell_type": "markdown",
   "id": "2a52e384-cbed-4005-8f4d-f8874172857f",
   "metadata": {},
   "source": [
    "### Definitions"
   ]
  },
  {
   "cell_type": "code",
   "execution_count": 6,
   "id": "85248774-7b5e-45b9-af78-1fffaa22bf78",
   "metadata": {},
   "outputs": [],
   "source": [
    "# Defining sum of 2 arrays\n",
    "\n",
    "def lst_sum(l1,l2):\n",
    "    l=[]\n",
    "    l1 = list(l1)\n",
    "    l2 = list(l2)\n",
    "    for i in range(0,len(l1)):\n",
    "        l.append( (l1[i] + l2[i]) )\n",
    "        \n",
    "    return l"
   ]
  },
  {
   "cell_type": "code",
   "execution_count": 7,
   "id": "fb1c1df5-ce59-4ebf-9de8-9a40ba71b3bf",
   "metadata": {},
   "outputs": [],
   "source": [
    "# Defining dot product of 2 arrays\n",
    "\n",
    "def lst_prdt(l1,l2):\n",
    "    k=0\n",
    "    l1 = list(l1)\n",
    "    l2 = list(l2)\n",
    "    for i in range(0, len(l1)):\n",
    "        k+= (l1[i] * l2[i])\n",
    "\n",
    "    return k"
   ]
  },
  {
   "cell_type": "code",
   "execution_count": 8,
   "id": "5c994ea5-d2bf-49df-ab13-a03ec98b46a9",
   "metadata": {},
   "outputs": [],
   "source": [
    "# Defining Prediction Output\n",
    "\n",
    "def y_out(w, x ,b):\n",
    "    return (lst_prdt(w,x) + b )"
   ]
  },
  {
   "cell_type": "code",
   "execution_count": 9,
   "id": "1bc77a60-1924-4fa9-978b-a5892b6ecbdf",
   "metadata": {},
   "outputs": [],
   "source": [
    "# Defining Cost Function\n",
    "\n",
    "def cost_fx(feature_var, target_var, weight, bias):\n",
    "    m=feature_var.shape[0]\n",
    "    err = 0\n",
    "    for i in range(0, m):\n",
    "        err += ( y_out(weight, feature_var.loc[i], bias) - target_var[i] )**2\n",
    "\n",
    "    err = err/(2*m)\n",
    "    return err"
   ]
  },
  {
   "cell_type": "code",
   "execution_count": 10,
   "id": "f5469436-e3ab-425e-8760-a36e6eb79741",
   "metadata": {},
   "outputs": [],
   "source": [
    "# Defining Gradient Descent\n",
    "\n",
    "def descent(feature_var, target_var, w_init, b_init, alpha, steps):\n",
    "    m = feature_var.shape[0]\n",
    "    w_new = []\n",
    "    b_new = 0\n",
    "\n",
    "    global y_cost\n",
    "    y_cost = []\n",
    "    \n",
    "    for i in range(0,steps):\n",
    "\n",
    "        y_cost.append(cost_fx(feature_var, target_var, w_init, b_init))\n",
    "        \n",
    "        for j in range(0,len(w_init)):\n",
    "\n",
    "            #Applying gradient descent to individal weight element\n",
    "            err=0\n",
    "            for k in range(0,m):\n",
    "                err += ( ( y_out(w_init, feature_var.loc[k], b_init) - target_var[k] )* ( list(feature_var.loc[k])[j] ) )\n",
    "            err = (alpha*err)/m\n",
    "\n",
    "            w_new.append( (w_init[j]-err) )\n",
    "\n",
    "        \n",
    "        #Applying Gradient descent to bias\n",
    "        err=0\n",
    "        for l in range(0,m):\n",
    "            err += (y_out(w_init, feature_var.loc[l], b_init) - target_var[l])\n",
    "        err = (alpha*err)/m\n",
    "        b_new = (b_init - err)\n",
    "\n",
    "        w_init = w_new\n",
    "        w_new = []\n",
    "        b_init = b_new\n",
    "        b_new = 0\n",
    "\n",
    "    w_out = w_init\n",
    "    b_out = b_init\n",
    "\n",
    "    return w_out,b_out"
   ]
  },
  {
   "cell_type": "code",
   "execution_count": 11,
   "id": "6786487c-9794-4db4-b49f-939a0495c642",
   "metadata": {},
   "outputs": [],
   "source": [
    "# Defining a function to remove outliers in preprocessing\n",
    "\n",
    "def del_outlier(dataframe):\n",
    "    df = pd.DataFrame(dataframe)\n",
    "    for i in df.columns:\n",
    "        iqr = df[i].quantile(0.75) - df[i].quantile(0.25)\n",
    "        mx = df[i].max() if (df[i].max() <= (df[i].quantile(0.75) + (1.5)*iqr)  ) else (df[i].quantile(0.75) + (1.5)*iqr)\n",
    "        mn = df[i].min() if (df[i].min() >= (df[i].quantile(0.25) - (1.5)*iqr)  ) else (df[i].quantile(0.25) - (1.5)*iqr)\n",
    "        \n",
    "        df = df[(df[i]>mn) & (df[i]<mx)]\n",
    "        \n",
    "        return df"
   ]
  },
  {
   "cell_type": "code",
   "execution_count": 12,
   "id": "fbdc7e8a-2cfc-406b-98f7-eedddad81c91",
   "metadata": {},
   "outputs": [],
   "source": [
    "# Defining a function to rescale features & target in preprocessing\n",
    "\n",
    "def rescale_srs(series):\n",
    "    iqr = series.quantile(0.75) - series.quantile(0.25)\n",
    "    mx = series.max() #if (series.max() <= (series.quantile(0.75) + (1.5)*iqr)  ) else (series.quantile(0.75) + (1.5)*iqr)\n",
    "    mn = series.min() #if (series.min() >= (series.quantile(0.25) - (1.5)*iqr)  ) else (series.quantile(0.25) - (1.5)*iqr)\n",
    "    mu = series.mean()\n",
    "    series = series.apply(lambda x : (x - mu)/(mx-mn))\n",
    "    \n",
    "    return series"
   ]
  },
  {
   "cell_type": "code",
   "execution_count": 13,
   "id": "39124c96-4ad0-4fbe-b047-145d8eee30ca",
   "metadata": {},
   "outputs": [],
   "source": [
    "# Defining a function to unscale features & target in preprocessing\n",
    "\n",
    "def unscale_val(val, col_name):\n",
    "    \n",
    "    f2 = houses[cols2]\n",
    "    f2 = del_outlier(f2)\n",
    "    df2 = pd.concat( (f2, houses.median_house_value), join='inner',axis=1 )\n",
    "\n",
    "    series = df2[col_name]\n",
    "    iqr = series.quantile(0.75) - series.quantile(0.25)\n",
    "    mx = series.max() #if (series.max() <= (series.quantile(0.75) + (1.5)*iqr)  ) else (series.quantile(0.75) + (1.5)*iqr)\n",
    "    mn = series.min() #if (series.min() >= (series.quantile(0.25) - (1.5)*iqr)  ) else (series.quantile(0.25) - (1.5)*iqr)\n",
    "    mu = series.mean()\n",
    "\n",
    "    out = val*(mx-mn) + mu\n",
    "\n",
    "    return out\n",
    "    "
   ]
  },
  {
   "cell_type": "code",
   "execution_count": 14,
   "id": "592f3b60-e91f-4748-87ce-b0e4a3631ce4",
   "metadata": {},
   "outputs": [],
   "source": [
    "# Defining functions of Metrics of Performance\n",
    "\n",
    "def rms_err(y1,y2):\n",
    "    y1,y2 = pd.Series(y1), pd.Series(y2)\n",
    "    rms = (y1-y2)\n",
    "    rms = rms*rms\n",
    "    rms = rms.sum()/len(y1)\n",
    "    rms = math.sqrt(rms)\n",
    "\n",
    "    return rms\n",
    "\n",
    "\n",
    "def ma_err(y1,y2):\n",
    "    y1,y2 = pd.Series(y1), pd.Series(y2)\n",
    "    ma = y1-y2\n",
    "    ma = ma.apply(lambda x: abs(x))\n",
    "    ma = ma.sum()\n",
    "    ma = ma/len(y1)\n",
    "\n",
    "    return ma\n",
    "    \n",
    "\n",
    "def r2_score(y_p,y_t):\n",
    "    y_p,y_t = pd.Series(y_p), pd.Series(y_t)\n",
    "    sq_err = y_p - y_t\n",
    "    sq_err = sq_err * sq_err\n",
    "    sq_err = sq_err.sum()\n",
    "    sq_tot = y_t * y_t\n",
    "    sq_tot = sq_tot.sum()\n",
    "\n",
    "    r2s = sq_err/sq_tot\n",
    "    r2s = 1-r2s\n",
    "\n",
    "    return r2s"
   ]
  },
  {
   "cell_type": "markdown",
   "id": "62adf980-9120-407b-a7ea-c27693b603ac",
   "metadata": {},
   "source": [
    "### Body"
   ]
  },
  {
   "cell_type": "code",
   "execution_count": 15,
   "id": "d8a3b11f-7e28-42e5-8262-3b824fb99342",
   "metadata": {},
   "outputs": [
    {
     "data": {
      "text/html": [
       "<div>\n",
       "<style scoped>\n",
       "    .dataframe tbody tr th:only-of-type {\n",
       "        vertical-align: middle;\n",
       "    }\n",
       "\n",
       "    .dataframe tbody tr th {\n",
       "        vertical-align: top;\n",
       "    }\n",
       "\n",
       "    .dataframe thead th {\n",
       "        text-align: right;\n",
       "    }\n",
       "</style>\n",
       "<table border=\"1\" class=\"dataframe\">\n",
       "  <thead>\n",
       "    <tr style=\"text-align: right;\">\n",
       "      <th></th>\n",
       "      <th>housing_median_age</th>\n",
       "      <th>total_rooms</th>\n",
       "      <th>total_bedrooms</th>\n",
       "      <th>median_income</th>\n",
       "      <th>households</th>\n",
       "      <th>ocean_proximity</th>\n",
       "      <th>median_house_value</th>\n",
       "    </tr>\n",
       "  </thead>\n",
       "  <tbody>\n",
       "    <tr>\n",
       "      <th>0</th>\n",
       "      <td>41.0</td>\n",
       "      <td>880.0</td>\n",
       "      <td>129.0</td>\n",
       "      <td>8.3252</td>\n",
       "      <td>126.0</td>\n",
       "      <td>2</td>\n",
       "      <td>452600.0</td>\n",
       "    </tr>\n",
       "    <tr>\n",
       "      <th>1</th>\n",
       "      <td>21.0</td>\n",
       "      <td>7099.0</td>\n",
       "      <td>1106.0</td>\n",
       "      <td>8.3014</td>\n",
       "      <td>1138.0</td>\n",
       "      <td>2</td>\n",
       "      <td>358500.0</td>\n",
       "    </tr>\n",
       "    <tr>\n",
       "      <th>2</th>\n",
       "      <td>42.0</td>\n",
       "      <td>2555.0</td>\n",
       "      <td>665.0</td>\n",
       "      <td>2.0804</td>\n",
       "      <td>595.0</td>\n",
       "      <td>2</td>\n",
       "      <td>226700.0</td>\n",
       "    </tr>\n",
       "    <tr>\n",
       "      <th>3</th>\n",
       "      <td>50.0</td>\n",
       "      <td>1120.0</td>\n",
       "      <td>283.0</td>\n",
       "      <td>2.1250</td>\n",
       "      <td>264.0</td>\n",
       "      <td>2</td>\n",
       "      <td>140000.0</td>\n",
       "    </tr>\n",
       "    <tr>\n",
       "      <th>4</th>\n",
       "      <td>50.0</td>\n",
       "      <td>2239.0</td>\n",
       "      <td>455.0</td>\n",
       "      <td>1.9911</td>\n",
       "      <td>419.0</td>\n",
       "      <td>2</td>\n",
       "      <td>158700.0</td>\n",
       "    </tr>\n",
       "    <tr>\n",
       "      <th>...</th>\n",
       "      <td>...</td>\n",
       "      <td>...</td>\n",
       "      <td>...</td>\n",
       "      <td>...</td>\n",
       "      <td>...</td>\n",
       "      <td>...</td>\n",
       "      <td>...</td>\n",
       "    </tr>\n",
       "    <tr>\n",
       "      <th>19159</th>\n",
       "      <td>25.0</td>\n",
       "      <td>1665.0</td>\n",
       "      <td>374.0</td>\n",
       "      <td>1.5603</td>\n",
       "      <td>330.0</td>\n",
       "      <td>5</td>\n",
       "      <td>78100.0</td>\n",
       "    </tr>\n",
       "    <tr>\n",
       "      <th>19160</th>\n",
       "      <td>18.0</td>\n",
       "      <td>697.0</td>\n",
       "      <td>150.0</td>\n",
       "      <td>2.5568</td>\n",
       "      <td>114.0</td>\n",
       "      <td>5</td>\n",
       "      <td>77100.0</td>\n",
       "    </tr>\n",
       "    <tr>\n",
       "      <th>19161</th>\n",
       "      <td>17.0</td>\n",
       "      <td>2254.0</td>\n",
       "      <td>485.0</td>\n",
       "      <td>1.7000</td>\n",
       "      <td>433.0</td>\n",
       "      <td>5</td>\n",
       "      <td>92300.0</td>\n",
       "    </tr>\n",
       "    <tr>\n",
       "      <th>19162</th>\n",
       "      <td>18.0</td>\n",
       "      <td>1860.0</td>\n",
       "      <td>409.0</td>\n",
       "      <td>1.8672</td>\n",
       "      <td>349.0</td>\n",
       "      <td>5</td>\n",
       "      <td>84700.0</td>\n",
       "    </tr>\n",
       "    <tr>\n",
       "      <th>19163</th>\n",
       "      <td>16.0</td>\n",
       "      <td>2785.0</td>\n",
       "      <td>616.0</td>\n",
       "      <td>2.3886</td>\n",
       "      <td>530.0</td>\n",
       "      <td>5</td>\n",
       "      <td>89400.0</td>\n",
       "    </tr>\n",
       "  </tbody>\n",
       "</table>\n",
       "<p>19164 rows × 7 columns</p>\n",
       "</div>"
      ],
      "text/plain": [
       "       housing_median_age  total_rooms  total_bedrooms  median_income  \\\n",
       "0                    41.0        880.0           129.0         8.3252   \n",
       "1                    21.0       7099.0          1106.0         8.3014   \n",
       "2                    42.0       2555.0           665.0         2.0804   \n",
       "3                    50.0       1120.0           283.0         2.1250   \n",
       "4                    50.0       2239.0           455.0         1.9911   \n",
       "...                   ...          ...             ...            ...   \n",
       "19159                25.0       1665.0           374.0         1.5603   \n",
       "19160                18.0        697.0           150.0         2.5568   \n",
       "19161                17.0       2254.0           485.0         1.7000   \n",
       "19162                18.0       1860.0           409.0         1.8672   \n",
       "19163                16.0       2785.0           616.0         2.3886   \n",
       "\n",
       "       households  ocean_proximity  median_house_value  \n",
       "0           126.0                2            452600.0  \n",
       "1          1138.0                2            358500.0  \n",
       "2           595.0                2            226700.0  \n",
       "3           264.0                2            140000.0  \n",
       "4           419.0                2            158700.0  \n",
       "...           ...              ...                 ...  \n",
       "19159       330.0                5             78100.0  \n",
       "19160       114.0                5             77100.0  \n",
       "19161       433.0                5             92300.0  \n",
       "19162       349.0                5             84700.0  \n",
       "19163       530.0                5             89400.0  \n",
       "\n",
       "[19164 rows x 7 columns]"
      ]
     },
     "execution_count": 15,
     "metadata": {},
     "output_type": "execute_result"
    }
   ],
   "source": [
    "# Preprocessing Data\n",
    "\n",
    "global cols2\n",
    "cols2 = ['housing_median_age','total_rooms','total_bedrooms','median_income','households']\n",
    "feature2 = feature.copy()[cols2]\n",
    "\n",
    "feature2 = del_outlier(feature2)\n",
    "target2 = target.copy()\n",
    "feature_combn = pd.concat( (feature2, feature['ocean_proximity']), join='inner', axis=1 )\n",
    "\n",
    "df_new = pd.concat((feature_combn,target2), join='inner',axis=1).reset_index(drop=True)\n",
    "\n",
    "feature2 = feature2.apply(rescale_srs, axis=0)\n",
    "feature2 = pd.concat( (feature2, feature['ocean_proximity']), join='inner', axis=1 )\n",
    "target2 = pd.concat((feature2,target2), join='inner',axis=1)['median_house_value']\n",
    "target2 = rescale_srs(target2)\n",
    "\n",
    "feature2 = feature2.reset_index(drop=True)\n",
    "target2 = target2.reset_index(drop=True)\n",
    "\n",
    "df_new"
   ]
  },
  {
   "cell_type": "code",
   "execution_count": 16,
   "id": "e77b93ea-3290-4ea0-a4bc-fe1e680e8762",
   "metadata": {},
   "outputs": [
    {
     "data": {
      "text/html": [
       "<div>\n",
       "<style scoped>\n",
       "    .dataframe tbody tr th:only-of-type {\n",
       "        vertical-align: middle;\n",
       "    }\n",
       "\n",
       "    .dataframe tbody tr th {\n",
       "        vertical-align: top;\n",
       "    }\n",
       "\n",
       "    .dataframe thead th {\n",
       "        text-align: right;\n",
       "    }\n",
       "</style>\n",
       "<table border=\"1\" class=\"dataframe\">\n",
       "  <thead>\n",
       "    <tr style=\"text-align: right;\">\n",
       "      <th></th>\n",
       "      <th>housing_median_age</th>\n",
       "      <th>total_rooms</th>\n",
       "      <th>total_bedrooms</th>\n",
       "      <th>median_income</th>\n",
       "      <th>households</th>\n",
       "      <th>ocean_proximity</th>\n",
       "      <th>median_house_value</th>\n",
       "    </tr>\n",
       "  </thead>\n",
       "  <tbody>\n",
       "    <tr>\n",
       "      <th>0</th>\n",
       "      <td>0.283746</td>\n",
       "      <td>-0.045985</td>\n",
       "      <td>-0.064845</td>\n",
       "      <td>0.307245</td>\n",
       "      <td>-0.062746</td>\n",
       "      <td>2</td>\n",
       "      <td>0.515969</td>\n",
       "    </tr>\n",
       "    <tr>\n",
       "      <th>1</th>\n",
       "      <td>-0.124417</td>\n",
       "      <td>0.112187</td>\n",
       "      <td>0.086792</td>\n",
       "      <td>0.305604</td>\n",
       "      <td>0.103701</td>\n",
       "      <td>2</td>\n",
       "      <td>0.321949</td>\n",
       "    </tr>\n",
       "    <tr>\n",
       "      <th>2</th>\n",
       "      <td>0.304154</td>\n",
       "      <td>-0.003384</td>\n",
       "      <td>0.018346</td>\n",
       "      <td>-0.123425</td>\n",
       "      <td>0.014392</td>\n",
       "      <td>2</td>\n",
       "      <td>0.050198</td>\n",
       "    </tr>\n",
       "    <tr>\n",
       "      <th>3</th>\n",
       "      <td>0.467420</td>\n",
       "      <td>-0.039881</td>\n",
       "      <td>-0.040944</td>\n",
       "      <td>-0.120349</td>\n",
       "      <td>-0.040049</td>\n",
       "      <td>2</td>\n",
       "      <td>-0.128564</td>\n",
       "    </tr>\n",
       "    <tr>\n",
       "      <th>4</th>\n",
       "      <td>0.467420</td>\n",
       "      <td>-0.011421</td>\n",
       "      <td>-0.014248</td>\n",
       "      <td>-0.129583</td>\n",
       "      <td>-0.014556</td>\n",
       "      <td>2</td>\n",
       "      <td>-0.090008</td>\n",
       "    </tr>\n",
       "  </tbody>\n",
       "</table>\n",
       "</div>"
      ],
      "text/plain": [
       "   housing_median_age  total_rooms  total_bedrooms  median_income  households  \\\n",
       "0            0.283746    -0.045985       -0.064845       0.307245   -0.062746   \n",
       "1           -0.124417     0.112187        0.086792       0.305604    0.103701   \n",
       "2            0.304154    -0.003384        0.018346      -0.123425    0.014392   \n",
       "3            0.467420    -0.039881       -0.040944      -0.120349   -0.040049   \n",
       "4            0.467420    -0.011421       -0.014248      -0.129583   -0.014556   \n",
       "\n",
       "   ocean_proximity  median_house_value  \n",
       "0                2            0.515969  \n",
       "1                2            0.321949  \n",
       "2                2            0.050198  \n",
       "3                2           -0.128564  \n",
       "4                2           -0.090008  "
      ]
     },
     "execution_count": 16,
     "metadata": {},
     "output_type": "execute_result"
    }
   ],
   "source": [
    "pd.concat((feature2,target2), axis=1).head()"
   ]
  },
  {
   "cell_type": "code",
   "execution_count": 17,
   "id": "5c2bfde3-d5d5-4e02-ac5b-8609730d6a0a",
   "metadata": {},
   "outputs": [],
   "source": [
    "# Initialization\n",
    "\n",
    "w=[]\n",
    "for i in cols:\n",
    "    w.append(0.4)\n",
    "    \n",
    "b=0"
   ]
  },
  {
   "cell_type": "code",
   "execution_count": 18,
   "id": "5ca161fa-cf49-4edb-a2b7-93c731d96872",
   "metadata": {},
   "outputs": [
    {
     "name": "stdout",
     "output_type": "stream",
     "text": [
      "Time Taken: 352.01 seconds\n"
     ]
    }
   ],
   "source": [
    "# Training Model & Measuring the time\n",
    "\n",
    "start = time.time()\n",
    "\n",
    "w_fin, b_fin = descent(feature2, target2, w, b, 0.1, 40)\n",
    "\n",
    "end = time.time()\n",
    "time_taken = end-start\n",
    "print(f\"Time Taken: {end-start:.2f} seconds\")"
   ]
  },
  {
   "cell_type": "code",
   "execution_count": 19,
   "id": "2e184a0d-ffd8-4ef9-9e5e-207af403e34a",
   "metadata": {},
   "outputs": [
    {
     "name": "stdout",
     "output_type": "stream",
     "text": [
      "0.04110260935651978\n",
      "Predicted Value:  222288.77 $\n",
      "Actual Value:  226700.0 $\n"
     ]
    }
   ],
   "source": [
    "# Predicting for an input\n",
    "\n",
    "res = y_out(w_fin,feature2.iloc[2,],b_fin) \n",
    "print(res)\n",
    "print('Predicted Value: ', f\"{unscale_val(res, 'median_house_value'):.2f}\", '$')\n",
    "print('Actual Value: ', df_new.iloc[2,6], '$')"
   ]
  },
  {
   "cell_type": "code",
   "execution_count": 20,
   "id": "911cd5c6-0f9a-4a09-be7f-34143d6b2ee6",
   "metadata": {},
   "outputs": [],
   "source": [
    "# Generating a series for predicted house value\n",
    "\n",
    "y_out_srs = []\n",
    "for i in range(0,feature2.shape[0]):\n",
    "    y_out_each = unscale_val( y_out(w_fin,feature2.iloc[i],b_fin), 'median_house_value')\n",
    "    y_out_srs.append(y_out_each)"
   ]
  },
  {
   "cell_type": "code",
   "execution_count": 21,
   "id": "74d90ecf-5e09-46b1-a449-5b5e18e18c52",
   "metadata": {},
   "outputs": [],
   "source": [
    "# Generating Performance Metrics\n",
    "\n",
    "rmse = rms_err(y_out_srs, df_new.median_house_value)\n",
    "mae = ma_err(y_out_srs, df_new.median_house_value)\n",
    "r2scr = r2_score(y_out_srs, df_new.median_house_value)"
   ]
  },
  {
   "cell_type": "markdown",
   "id": "f68a70b5-a6cf-4847-8bd4-52ae5054b29f",
   "metadata": {},
   "source": [
    "### Comparison & Performance Metrics"
   ]
  },
  {
   "cell_type": "code",
   "execution_count": 22,
   "id": "1d22c473-612a-44c3-a9fd-6d5f2834d168",
   "metadata": {
    "jupyter": {
     "source_hidden": true
    }
   },
   "outputs": [
    {
     "data": {
      "image/png": "[encoded data removed]",
      "text/plain": [
       "<Figure size 640x480 with 1 Axes>"
      ]
     },
     "metadata": {},
     "output_type": "display_data"
    }
   ],
   "source": [
    "plt.plot(range(len(y_cost)), y_cost)\n",
    "plt.title(\"Convergence of Gradient Descent (wrt Iterations)\")\n",
    "plt.xlabel('No. Of Iterations')\n",
    "plt.ylabel('Cost Function')\n",
    "plt.axhline(y=y_cost[-1], color='red', linestyle='--', label='Final Cost')\n",
    "plt.legend()\n",
    "plt.grid(True)\n",
    "plt.text(-2, y_cost[-1]*1.5 , f\"{y_cost[-1]:.5f}\", color='red')\n",
    "plt.show()"
   ]
  },
  {
   "cell_type": "code",
   "execution_count": 23,
   "id": "77c86cff-dd51-41c9-bb43-ccd498cf5bb4",
   "metadata": {
    "jupyter": {
     "source_hidden": true
    }
   },
   "outputs": [
    {
     "name": "stdout",
     "output_type": "stream",
     "text": [
      "8.800267690420151\n"
     ]
    },
    {
     "data": {
      "image/png": "[encoded data removed]",
      "text/plain": [
       "<Figure size 640x480 with 1 Axes>"
      ]
     },
     "metadata": {},
     "output_type": "display_data"
    }
   ],
   "source": [
    "time_lst = []\n",
    "t1 = time_taken/len(y_cost)\n",
    "tk = 0\n",
    "print(t1)\n",
    "for i in range(len(y_cost)):\n",
    "    tk+=t1\n",
    "    time_lst.append(tk)\n",
    "    \n",
    "\n",
    "plt.plot(time_lst, y_cost)\n",
    "plt.title(\"Convergence of Gradient Descent (wrt Time)\")\n",
    "plt.xlabel('Time Taken (seconds)')\n",
    "plt.ylabel('Cost Function')\n",
    "plt.axhline(y=y_cost[-1], color='red', linestyle='--', label='Final Cost')\n",
    "plt.legend()\n",
    "plt.grid(True)\n",
    "plt.text(-2, y_cost[-1]*1.5 , f\"{y_cost[-1]:.5f}\", color='red')\n",
    "plt.show()"
   ]
  },
  {
   "cell_type": "code",
   "execution_count": 24,
   "id": "71c4c176-5e94-4868-a4cc-517a0132de71",
   "metadata": {
    "jupyter": {
     "source_hidden": true
    }
   },
   "outputs": [
    {
     "data": {
      "image/png": "[encoded data removed]",
      "text/plain": [
       "<Figure size 700x600 with 1 Axes>"
      ]
     },
     "metadata": {},
     "output_type": "display_data"
    }
   ],
   "source": [
    "plt.figure(figsize=(7,6))\n",
    "plt.grid(True)\n",
    "plt.bar(x=['Root Mean Squared Error','Mean Absolute Error','R2 Score(x10000)'],height=[rmse,mae,r2scr*10000], color = 'purple')\n",
    "plt.title('Metrics of Performance');"
   ]
  },
  {
   "cell_type": "code",
   "execution_count": 25,
   "id": "9cb723ad-1af6-4282-ab54-4b941a44d846",
   "metadata": {
    "jupyter": {
     "source_hidden": true
    }
   },
   "outputs": [
    {
     "name": "stdout",
     "output_type": "stream",
     "text": [
      "Mean Absolute Error : 75559.7496028754\n",
      "Root Mean Squared Eror : 98375.97810735654\n",
      "R2 Score : 0.8192569280936366\n",
      "Time Taken for training : 352.01070761680603\n"
     ]
    }
   ],
   "source": [
    "print(f'''Mean Absolute Error : {mae}\n",
    "Root Mean Squared Eror : {rmse}\n",
    "R2 Score : {r2scr}\n",
    "Time Taken for training : {time_taken}''')"
   ]
  },
  {
   "cell_type": "markdown",
   "id": "11602160-44a6-4e8c-bd14-1f7d71085af4",
   "metadata": {},
   "source": [
    "### End of Code"
   ]
  }
 ],
 "metadata": {
  "kernelspec": {
   "display_name": "Python [conda env:base] *",
   "language": "python",
   "name": "conda-base-py"
  },
  "language_info": {
   "codemirror_mode": {
    "name": "ipython",
    "version": 3
   },
   "file_extension": ".py",
   "mimetype": "text/x-python",
   "name": "python",
   "nbconvert_exporter": "python",
   "pygments_lexer": "ipython3",
   "version": "3.12.7"
  }
 },
 "nbformat": 4,
 "nbformat_minor": 5
}
